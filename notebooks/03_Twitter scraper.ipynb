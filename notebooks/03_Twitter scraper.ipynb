{
 "cells": [
  {
   "cell_type": "markdown",
   "metadata": {},
   "source": [
    "# Scraping"
   ]
  },
  {
   "cell_type": "code",
   "execution_count": null,
   "metadata": {
    "scrolled": true
   },
   "outputs": [],
   "source": [
    "import csv\n",
    "from getpass import getpass\n",
    "from time import sleep\n",
    "from selenium.webdriver.common.keys import Keys\n",
    "from selenium.common.exceptions import NoSuchElementException\n",
    "from selenium.webdriver import Firefox\n",
    "\n",
    "from src.TwitterScraper.scraper import get_tweet_data\n",
    "\n",
    "#open the browser and logs into twitter\n",
    "browser = Firefox()\n",
    "browser.get('https://www.twitter.com/login')\n",
    "sleep(2)\n",
    "username = browser.find_element_by_xpath('//input[@name=\"session[username_or_email]\"]')\n",
    "username.send_keys('orjanenes@gmail.com')\n",
    "password = getpass()\n",
    "getpasswordInput = browser.find_element_by_xpath('//input[@name=\"session[password]\"]')\n",
    "getpasswordInput.send_keys(password)\n",
    "getpasswordInput.send_keys(Keys.RETURN)\n",
    "sleep(2)\n",
    "\n",
    "#Finds the search input and enters the search string\n",
    "search_input = browser.find_element_by_xpath('//input[@aria-label=\"Search query\"]')\n",
    "search_input.send_keys('#spacex')\n",
    "search_input.send_keys(Keys.RETURN)\n",
    "\n",
    "sleep(2)\n",
    "#Clicks on the Latest tab\n",
    "browser.find_element_by_link_text('Latest').click()\n",
    "sleep(2)\n",
    "\n",
    "#Get all the tweet data\n",
    "data = []\n",
    "tweet_ids = set()\n",
    "last_position = browser.execute_script(\"return window.pageYOffset;\")\n",
    "scrolling = True\n",
    "\n",
    "#scrape tweets until we dont find more tweets or our dataset has 1000 elements\n",
    "while scrolling and len(data)<=1000:\n",
    "    page_cards = browser.find_elements_by_xpath('//div[@data-testid=\"tweet\"]')\n",
    "    for card in page_cards[-15:]:\n",
    "        tweet = get_tweet_data(card)\n",
    "        if tweet:\n",
    "            tweet_id = ''.join(tweet)\n",
    "            if tweet_id not in tweet_ids:\n",
    "                tweet_ids.add(tweet_id)\n",
    "                data.append(tweet)\n",
    "\n",
    "    scroll_attempt = 0\n",
    "    while True:\n",
    "        #Check scroll pos\n",
    "        browser.execute_script('window.scrollTo(0, document.body.scrollHeight);')\n",
    "        sleep(2)\n",
    "        curr_position = browser.execute_script(\"return window.pageYOffset;\")\n",
    "        if last_position == curr_position:\n",
    "            scroll_attempt +=1\n",
    "            \n",
    "            if scroll_attempt >= 3:\n",
    "                scrolling = False\n",
    "                break\n",
    "            else:\n",
    "                sleep(2)\n",
    "        else:\n",
    "            last_position = curr_position\n",
    "            break\n",
    "browser.close()"
   ]
  },
  {
   "cell_type": "markdown",
   "metadata": {},
   "source": [
    "# Saving the data"
   ]
  },
  {
   "cell_type": "code",
   "execution_count": null,
   "metadata": {},
   "outputs": [],
   "source": [
    "with open('spacex_tweets.csv', 'w', newline='', encoding='utf-8') as f:\n",
    "    header = ['Username', 'Handle', 'Timestamp', 'text', 'Emojis', 'Comments', 'Likes', 'Retweets']\n",
    "    writer = csv.writer(f)\n",
    "    writer.writerow(header)\n",
    "    writer.writerows(data)"
   ]
  },
  {
   "cell_type": "code",
   "execution_count": null,
   "metadata": {},
   "outputs": [],
   "source": []
  }
 ],
 "metadata": {
  "kernelspec": {
   "display_name": "Python 3",
   "language": "python",
   "name": "python3"
  },
  "language_info": {
   "codemirror_mode": {
    "name": "ipython",
    "version": 3
   },
   "file_extension": ".py",
   "mimetype": "text/x-python",
   "name": "python",
   "nbconvert_exporter": "python",
   "pygments_lexer": "ipython3",
   "version": "3.8.2"
  }
 },
 "nbformat": 4,
 "nbformat_minor": 4
}
